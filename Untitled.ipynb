{
  "metadata": {
    "language_info": {
      "codemirror_mode": {
        "name": "python",
        "version": 3
      },
      "file_extension": ".py",
      "mimetype": "text/x-python",
      "name": "python",
      "nbconvert_exporter": "python",
      "pygments_lexer": "ipython3",
      "version": "3.8"
    },
    "kernelspec": {
      "name": "python",
      "display_name": "Python (Pyodide)",
      "language": "python"
    }
  },
  "nbformat_minor": 4,
  "nbformat": 4,
  "cells": [
    {
      "cell_type": "markdown",
      "source": "# My Jupyter note book on IBM Watson studio",
      "metadata": {}
    },
    {
      "cell_type": "markdown",
      "source": "**Shivangi Paliwal**  \nData Scientist",
      "metadata": {}
    },
    {
      "cell_type": "markdown",
      "source": "*I am a molecular biologist and looking forward to change career in the field on data science*",
      "metadata": {}
    },
    {
      "cell_type": "markdown",
      "source": "### My code will provide product of 2 and 3 ###",
      "metadata": {}
    },
    {
      "cell_type": "code",
      "source": "2*3",
      "metadata": {
        "trusted": true
      },
      "execution_count": 2,
      "outputs": [
        {
          "execution_count": 2,
          "output_type": "execute_result",
          "data": {
            "text/plain": "6"
          },
          "metadata": {}
        }
      ]
    },
    {
      "cell_type": "markdown",
      "source": "1. Eggs. \n2. Milk. \n3. Bread   \n\n* Swiming. \n* Tuba. \n* Gymnastics  \n  \n > ROMEO: \"My life were better ended by their hate Than death proogoed, wanting of thy love.\" circumstances: Romeo would be rather be caught and killed by Juliet's family than live without her love. JULIET: \"O, swear not by the moon, th' inconstant moon.\n",
      "metadata": {}
    },
    {
      "cell_type": "code",
      "source": "",
      "metadata": {},
      "execution_count": null,
      "outputs": []
    }
  ]
}